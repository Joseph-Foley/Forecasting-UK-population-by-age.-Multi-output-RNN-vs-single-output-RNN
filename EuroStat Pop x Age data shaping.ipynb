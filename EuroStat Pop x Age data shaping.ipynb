{
 "cells": [
  {
   "cell_type": "markdown",
   "metadata": {},
   "source": [
    "### The purpose of this script is to reduce the original data from the EuroStat portal to the metrics we are investigating."
   ]
  },
  {
   "cell_type": "code",
   "execution_count": 1,
   "metadata": {},
   "outputs": [],
   "source": [
    "#Libraries\n",
    "import numpy as np\n",
    "import pandas as pd\n",
    "import matplotlib.pyplot as plt"
   ]
  },
  {
   "cell_type": "code",
   "execution_count": 2,
   "metadata": {},
   "outputs": [],
   "source": [
    "#Import\n",
    "df = pd.read_csv('./Eurostat PopxAge series.csv')"
   ]
  },
  {
   "cell_type": "code",
   "execution_count": 3,
   "metadata": {},
   "outputs": [
    {
     "data": {
      "text/html": [
       "<div>\n",
       "<style scoped>\n",
       "    .dataframe tbody tr th:only-of-type {\n",
       "        vertical-align: middle;\n",
       "    }\n",
       "\n",
       "    .dataframe tbody tr th {\n",
       "        vertical-align: top;\n",
       "    }\n",
       "\n",
       "    .dataframe thead th {\n",
       "        text-align: right;\n",
       "    }\n",
       "</style>\n",
       "<table border=\"1\" class=\"dataframe\">\n",
       "  <thead>\n",
       "    <tr style=\"text-align: right;\">\n",
       "      <th></th>\n",
       "      <th>TIME</th>\n",
       "      <th>GEO</th>\n",
       "      <th>INDIC_DE</th>\n",
       "      <th>Value</th>\n",
       "    </tr>\n",
       "  </thead>\n",
       "  <tbody>\n",
       "    <tr>\n",
       "      <th>0</th>\n",
       "      <td>1950</td>\n",
       "      <td>European Union (current composition)</td>\n",
       "      <td>Median age of population</td>\n",
       "      <td>NaN</td>\n",
       "    </tr>\n",
       "    <tr>\n",
       "      <th>1</th>\n",
       "      <td>1950</td>\n",
       "      <td>European Union (current composition)</td>\n",
       "      <td>Proportion of population aged 0-4 years</td>\n",
       "      <td>NaN</td>\n",
       "    </tr>\n",
       "    <tr>\n",
       "      <th>2</th>\n",
       "      <td>1950</td>\n",
       "      <td>European Union (current composition)</td>\n",
       "      <td>Proportion of population aged 0-14 years</td>\n",
       "      <td>NaN</td>\n",
       "    </tr>\n",
       "    <tr>\n",
       "      <th>3</th>\n",
       "      <td>1950</td>\n",
       "      <td>European Union (current composition)</td>\n",
       "      <td>Proportion of population aged 0-19 years</td>\n",
       "      <td>NaN</td>\n",
       "    </tr>\n",
       "    <tr>\n",
       "      <th>4</th>\n",
       "      <td>1950</td>\n",
       "      <td>European Union (current composition)</td>\n",
       "      <td>Proportion of population aged 5-9 years</td>\n",
       "      <td>NaN</td>\n",
       "    </tr>\n",
       "  </tbody>\n",
       "</table>\n",
       "</div>"
      ],
      "text/plain": [
       "   TIME                                   GEO  \\\n",
       "0  1950  European Union (current composition)   \n",
       "1  1950  European Union (current composition)   \n",
       "2  1950  European Union (current composition)   \n",
       "3  1950  European Union (current composition)   \n",
       "4  1950  European Union (current composition)   \n",
       "\n",
       "                                   INDIC_DE  Value  \n",
       "0                  Median age of population    NaN  \n",
       "1   Proportion of population aged 0-4 years    NaN  \n",
       "2  Proportion of population aged 0-14 years    NaN  \n",
       "3  Proportion of population aged 0-19 years    NaN  \n",
       "4   Proportion of population aged 5-9 years    NaN  "
      ]
     },
     "execution_count": 3,
     "metadata": {},
     "output_type": "execute_result"
    }
   ],
   "source": [
    "df.head()"
   ]
  },
  {
   "cell_type": "code",
   "execution_count": 4,
   "metadata": {},
   "outputs": [
    {
     "name": "stdout",
     "output_type": "stream",
     "text": [
      "<class 'pandas.core.frame.DataFrame'>\n",
      "RangeIndex: 171360 entries, 0 to 171359\n",
      "Data columns (total 4 columns):\n",
      "TIME        171360 non-null int64\n",
      "GEO         171360 non-null object\n",
      "INDIC_DE    171360 non-null object\n",
      "Value       96986 non-null float64\n",
      "dtypes: float64(1), int64(1), object(2)\n",
      "memory usage: 5.2+ MB\n"
     ]
    }
   ],
   "source": [
    "df.info()"
   ]
  },
  {
   "cell_type": "code",
   "execution_count": 5,
   "metadata": {},
   "outputs": [],
   "source": [
    "#choose desired metrics\n",
    "metrics = ['Proportion of population aged 0-19 years','Proportion of population aged 20-39 years','Proportion of population aged 40-59 years', 'Proportion of population aged 60-79 years' , 'Proportion of population aged 80 years and more']"
   ]
  },
  {
   "cell_type": "code",
   "execution_count": 6,
   "metadata": {},
   "outputs": [],
   "source": [
    "#select subset of those metrics and rename for convience\n",
    "df = df[df['INDIC_DE'].isin(metrics)]\n",
    "df.replace('Proportion of population aged', '% of pop', inplace = True, regex = True)\n",
    "df.replace('80 years and more', '80+ years', inplace = True, regex = True)"
   ]
  },
  {
   "cell_type": "code",
   "execution_count": 7,
   "metadata": {},
   "outputs": [],
   "source": [
    "#Unstack to have TIME as one axis, select UK and set TIME as the index\n",
    "df = df.set_index(list(df.columns[:3]))\n",
    "df = df.unstack('TIME')\n",
    "df.columns = df.columns.droplevel()\n",
    "df=df.T['United Kingdom']"
   ]
  },
  {
   "cell_type": "code",
   "execution_count": 8,
   "metadata": {},
   "outputs": [
    {
     "data": {
      "text/html": [
       "<div>\n",
       "<style scoped>\n",
       "    .dataframe tbody tr th:only-of-type {\n",
       "        vertical-align: middle;\n",
       "    }\n",
       "\n",
       "    .dataframe tbody tr th {\n",
       "        vertical-align: top;\n",
       "    }\n",
       "\n",
       "    .dataframe thead th {\n",
       "        text-align: right;\n",
       "    }\n",
       "</style>\n",
       "<table border=\"1\" class=\"dataframe\">\n",
       "  <thead>\n",
       "    <tr style=\"text-align: right;\">\n",
       "      <th>INDIC_DE</th>\n",
       "      <th>% of pop 0-19 years</th>\n",
       "      <th>% of pop 20-39 years</th>\n",
       "      <th>% of pop 40-59 years</th>\n",
       "      <th>% of pop 60-79 years</th>\n",
       "      <th>% of pop 80+ years</th>\n",
       "    </tr>\n",
       "    <tr>\n",
       "      <th>TIME</th>\n",
       "      <th></th>\n",
       "      <th></th>\n",
       "      <th></th>\n",
       "      <th></th>\n",
       "      <th></th>\n",
       "    </tr>\n",
       "  </thead>\n",
       "  <tbody>\n",
       "    <tr>\n",
       "      <th>1950</th>\n",
       "      <td>NaN</td>\n",
       "      <td>NaN</td>\n",
       "      <td>NaN</td>\n",
       "      <td>NaN</td>\n",
       "      <td>1.5</td>\n",
       "    </tr>\n",
       "    <tr>\n",
       "      <th>1951</th>\n",
       "      <td>NaN</td>\n",
       "      <td>NaN</td>\n",
       "      <td>NaN</td>\n",
       "      <td>NaN</td>\n",
       "      <td>NaN</td>\n",
       "    </tr>\n",
       "    <tr>\n",
       "      <th>1952</th>\n",
       "      <td>NaN</td>\n",
       "      <td>NaN</td>\n",
       "      <td>NaN</td>\n",
       "      <td>NaN</td>\n",
       "      <td>NaN</td>\n",
       "    </tr>\n",
       "    <tr>\n",
       "      <th>1953</th>\n",
       "      <td>NaN</td>\n",
       "      <td>NaN</td>\n",
       "      <td>NaN</td>\n",
       "      <td>NaN</td>\n",
       "      <td>NaN</td>\n",
       "    </tr>\n",
       "    <tr>\n",
       "      <th>1954</th>\n",
       "      <td>29.0</td>\n",
       "      <td>27.8</td>\n",
       "      <td>27.2</td>\n",
       "      <td>14.6</td>\n",
       "      <td>1.8</td>\n",
       "    </tr>\n",
       "  </tbody>\n",
       "</table>\n",
       "</div>"
      ],
      "text/plain": [
       "INDIC_DE  % of pop 0-19 years  % of pop 20-39 years  % of pop 40-59 years  \\\n",
       "TIME                                                                        \n",
       "1950                      NaN                   NaN                   NaN   \n",
       "1951                      NaN                   NaN                   NaN   \n",
       "1952                      NaN                   NaN                   NaN   \n",
       "1953                      NaN                   NaN                   NaN   \n",
       "1954                     29.0                  27.8                  27.2   \n",
       "\n",
       "INDIC_DE  % of pop 60-79 years  % of pop 80+ years  \n",
       "TIME                                                \n",
       "1950                       NaN                 1.5  \n",
       "1951                       NaN                 NaN  \n",
       "1952                       NaN                 NaN  \n",
       "1953                       NaN                 NaN  \n",
       "1954                      14.6                 1.8  "
      ]
     },
     "execution_count": 8,
     "metadata": {},
     "output_type": "execute_result"
    }
   ],
   "source": [
    "df.head()"
   ]
  },
  {
   "cell_type": "code",
   "execution_count": 9,
   "metadata": {},
   "outputs": [
    {
     "data": {
      "text/plain": [
       "TIME\n",
       "1950      1.5\n",
       "1951      0.0\n",
       "1952      0.0\n",
       "1953      0.0\n",
       "1954    100.4\n",
       "1955    100.0\n",
       "1956     99.7\n",
       "1957    100.2\n",
       "1958    100.2\n",
       "1959     99.7\n",
       "1960     99.7\n",
       "1961     99.9\n",
       "1962    100.5\n",
       "1963    100.1\n",
       "1964    100.1\n",
       "1965    100.0\n",
       "1966    100.0\n",
       "1967    100.0\n",
       "1968    100.0\n",
       "1969    100.0\n",
       "1970    100.0\n",
       "1971    100.0\n",
       "1972    100.1\n",
       "1973    100.1\n",
       "1974    100.1\n",
       "1975    100.0\n",
       "1976    100.0\n",
       "1977    100.0\n",
       "1978     99.8\n",
       "1979    100.0\n",
       "        ...  \n",
       "1988    100.0\n",
       "1989    100.0\n",
       "1990    100.0\n",
       "1991    100.0\n",
       "1992    100.0\n",
       "1993     99.9\n",
       "1994    100.0\n",
       "1995    100.1\n",
       "1996    100.0\n",
       "1997    100.0\n",
       "1998    100.0\n",
       "1999    100.0\n",
       "2000    100.0\n",
       "2001    100.0\n",
       "2002    100.0\n",
       "2003    100.0\n",
       "2004    100.0\n",
       "2005     99.9\n",
       "2006    100.0\n",
       "2007    100.0\n",
       "2008     99.9\n",
       "2009    100.0\n",
       "2010     99.9\n",
       "2011    100.1\n",
       "2012    100.0\n",
       "2013    100.0\n",
       "2014    100.0\n",
       "2015    100.0\n",
       "2016    100.0\n",
       "2017    100.0\n",
       "Length: 68, dtype: float64"
      ]
     },
     "execution_count": 9,
     "metadata": {},
     "output_type": "execute_result"
    }
   ],
   "source": [
    "#check to see if proportions sum to 100.\n",
    "df.sum(axis=1)"
   ]
  },
  {
   "cell_type": "code",
   "execution_count": 10,
   "metadata": {},
   "outputs": [],
   "source": [
    "#Due to rounding from the source the proportions do not sum to 100. Let's make that the case\n",
    "#We also see that we cannot use data pre 1954 so we shall cut the prior years\n",
    "df = df.loc[1954:]\n",
    "df = 100*(df.T/df.T.sum()).T"
   ]
  },
  {
   "cell_type": "code",
   "execution_count": 11,
   "metadata": {},
   "outputs": [
    {
     "data": {
      "text/plain": [
       "<matplotlib.axes._subplots.AxesSubplot at 0x1e2d8595da0>"
      ]
     },
     "execution_count": 11,
     "metadata": {},
     "output_type": "execute_result"
    },
    {
     "data": {
      "image/png": "[encoded data removed]",
      "text/plain": [
       "<Figure size 1440x864 with 1 Axes>"
      ]
     },
     "metadata": {},
     "output_type": "display_data"
    }
   ],
   "source": [
    "#Visaulise final table\n",
    "df.plot(figsize = (20,12))"
   ]
  },
  {
   "cell_type": "code",
   "execution_count": 12,
   "metadata": {},
   "outputs": [],
   "source": [
    "#Export data to csv\n",
    "df.to_csv('./UK Pop X Age.csv')"
   ]
  }
 ],
 "metadata": {
  "kernelspec": {
   "display_name": "Python 3",
   "language": "python",
   "name": "python3"
  },
  "language_info": {
   "codemirror_mode": {
    "name": "ipython",
    "version": 3
   },
   "file_extension": ".py",
   "mimetype": "text/x-python",
   "name": "python",
   "nbconvert_exporter": "python",
   "pygments_lexer": "ipython3",
   "version": "3.6.5"
  }
 },
 "nbformat": 4,
 "nbformat_minor": 2
}
